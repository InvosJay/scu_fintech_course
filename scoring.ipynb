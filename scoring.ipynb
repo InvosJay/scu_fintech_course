{
  "cells": [
    {
      "cell_type": "code",
      "execution_count": 299,
      "metadata": {
        "id": "k1uTDrApnlfg"
      },
      "outputs": [],
      "source": [
        "import pandas as pd\n",
        "import numpy as np\n",
        "from sklearn.metrics import f1_score"
      ]
    },
    {
      "cell_type": "code",
      "execution_count": 300,
      "metadata": {
        "id": "--jgeEMnnlfn"
      },
      "outputs": [],
      "source": [
        "# 學生預測結果檔案\n",
        "\n",
        "# Sample\n",
        "student_submit_ner   = './data/student_prediction/sample_brand.csv'                 # 品牌預測結果 (sample)\n",
        "student_submit_multi = './data/student_prediction/sample_cat.csv'                   # 品類預測結果 (sample)\n",
        "zz = pd.read_csv('./data/brand_list/brand_list_standard.csv')          # 品牌表 (標準檔案)\n",
        "\n",
        "# 第一組\n",
        "#student_submit_ner   = './data/student_prediction/brand_test_team1.csv'     # 品牌預測結果 (第一組)\n",
        "#student_submit_multi = './data/student_prediction/cat_test_team1.csv'       # 品類預測結果 (第一組)\n",
        "#zz = pd.read_csv('./data/brand_list/brand_list_team1_and_team2.csv')  # 第一組 & 第二組的品牌表 (與 brand_list_standard.csv 合併)\n",
        "\n",
        "# 第二組\n",
        "#student_submit_ner   = './data/student_prediction/brand_test_team2.csv'     # 品牌預測結果 (第二組)\n",
        "#student_submit_multi = './data/student_prediction/cat_test_team2.csv'       # 品類預測結果 (第二組)\n",
        "#zz = pd.read_csv('./data/brand_list/brand_list_team1_and_team2.csv')  # 第一組 & 第二組的品牌表 (與 brand_list_standard.csv 合併)\n",
        "\n",
        "# 第三組\n",
        "#student_submit_ner   = './data/student_prediction/brand_test_team3.csv'     # 品牌預測結果 (第三組)\n",
        "#student_submit_multi = './data/student_prediction/cat_test_team3.csv'       # 品類預測結果 (第三組)\n",
        "#zz = pd.read_csv('./data/brand_list/brand_list_team3.csv')            # 第三組的品牌表 (與 brand_list_standard.csv 合併)\n",
        "\n",
        "# 第四組\n",
        "#student_submit_ner   = './data/student_prediction/brand_test_team4.csv'     # 品牌預測結果 (第四組)\n",
        "#student_submit_multi = './data/student_prediction/cat_test_team4.csv'       # 品類預測結果 (第四組)\n",
        "#zz = pd.read_csv('./data/brand_list/brand_list_team4.csv')            # 第四組的品牌表 (與 brand_list_standard.csv 合併)"
      ]
    },
    {
      "cell_type": "markdown",
      "metadata": {
        "id": "vKqoVDSInlfo"
      },
      "source": [
        "## 品牌計分"
      ]
    },
    {
      "cell_type": "markdown",
      "metadata": {
        "id": "Q3LAOKUHnlfq"
      },
      "source": [
        "* aka mapping"
      ]
    },
    {
      "cell_type": "code",
      "execution_count": 301,
      "metadata": {
        "id": "GxA9_btrnlfr"
      },
      "outputs": [],
      "source": [
        "# 載入品牌 mapping 表 (aka表)\n",
        "df_train = pd.read_csv('./data/dataset/brand_train_new.csv',usecols=['name','brand'])\n",
        "df_test  = pd.read_csv('./data/dataset/brand_test_new(ans).csv',usecols=['name','brand'])\n",
        "old_brand = set([x for x in df_train['brand']])"
      ]
    },
    {
      "cell_type": "code",
      "execution_count": 302,
      "metadata": {
        "id": "WSALCiDVnlfr"
      },
      "outputs": [],
      "source": [
        "# 處理「brand_list_standard.csv」資料，將之轉換成 brand dictionary\n",
        "entity_map = {}\n",
        "for row in zz.values:\n",
        "    tmp_list = list(set([x.strip() for x in row[:] if str(x)!='nan']))\n",
        "    tmp_list = sorted(tmp_list,key=lambda x:len(x.strip()))\n",
        "    entity_map[tmp_list[0].strip()] = tmp_list#[1:]\n",
        "\n",
        "brand_remap = {}\n",
        "for k,v in entity_map.items():\n",
        "    for _v in v:\n",
        "        brand_remap[_v] = k"
      ]
    },
    {
      "cell_type": "code",
      "execution_count": 303,
      "metadata": {
        "id": "2CTb0TxKnlfs"
      },
      "outputs": [],
      "source": [
        "aka_ans = []\n",
        "for ele in df_test['brand']:\n",
        "    uniq_brand = brand_remap.setdefault(ele,ele)\n",
        "    aka_ans.append(entity_map.setdefault(uniq_brand,[uniq_brand]))\n",
        "\n",
        "df_test['aka_ans'] = aka_ans\n",
        "df_test['old_tag'] = df_test['aka_ans'].apply(lambda x: int(any([y in old_brand for y in x])))\n",
        "df_test['true'] = df_test['brand'].apply(lambda x: brand_remap.setdefault(x,x))"
      ]
    },
    {
      "cell_type": "markdown",
      "metadata": {
        "id": "3JRW-6ESnlft"
      },
      "source": [
        "* load student answer"
      ]
    },
    {
      "cell_type": "code",
      "execution_count": 304,
      "metadata": {
        "id": "R3ECH3ghnlfu"
      },
      "outputs": [],
      "source": [
        "df_submit_ner = pd.read_csv(student_submit_ner)"
      ]
    },
    {
      "cell_type": "code",
      "execution_count": 305,
      "metadata": {
        "id": "3f9Z0o8Mnlfu"
      },
      "outputs": [],
      "source": [
        "df_test['pred'] = df_submit_ner['brand_pred'].fillna('')\n",
        "df_test['pred'] = df_test['pred'].apply(lambda x: brand_remap.setdefault(x,x))"
      ]
    },
    {
      "cell_type": "markdown",
      "metadata": {
        "id": "8EvLgPGvnlfv"
      },
      "source": [
        "## scoring"
      ]
    },
    {
      "cell_type": "markdown",
      "metadata": {
        "id": "uX3_aHqbnlfw"
      },
      "source": [
        "* 既有標籤"
      ]
    },
    {
      "cell_type": "code",
      "execution_count": 306,
      "metadata": {
        "id": "l1ks8-ubnlfw"
      },
      "outputs": [],
      "source": [
        "ner_score1 = f1_score(y_true=df_test.loc[df_test['old_tag']==1,'true'],\n",
        "                      y_pred=df_test.loc[df_test['old_tag']==1,'pred'],\n",
        "                      average=\"macro\")"
      ]
    },
    {
      "cell_type": "markdown",
      "metadata": {
        "id": "P3smPo6Znlfx"
      },
      "source": [
        "* 未知標籤"
      ]
    },
    {
      "cell_type": "code",
      "execution_count": 307,
      "metadata": {
        "id": "BODpO7fPnlfx"
      },
      "outputs": [],
      "source": [
        "def jaccard(str1, str2):\n",
        "    a = set(str1.lower().replace(' ',''))\n",
        "    b = set(str2.lower().replace(' ',''))\n",
        "    c = a.intersection(b)\n",
        "    return float(len(c)) / (len(a) + len(b) - len(c))\n",
        "\n",
        "def max_jaccard(true_list,pred_str):\n",
        "    out = []\n",
        "    for _true,_pred in zip(true_list,pred_str):\n",
        "        out.append(max([jaccard(sub_true,_pred) for sub_true in _true]))\n",
        "    return np.mean(out)"
      ]
    },
    {
      "cell_type": "code",
      "execution_count": 308,
      "metadata": {
        "id": "m0tCyQ8wnlfx"
      },
      "outputs": [],
      "source": [
        "ner_score2 = max_jaccard(true_list=df_test.loc[df_test['old_tag']==0,'aka_ans'],\n",
        "                         pred_str =df_test.loc[df_test['old_tag']==0,'pred'])"
      ]
    },
    {
      "cell_type": "markdown",
      "metadata": {
        "id": "nq_6frKinlfy"
      },
      "source": [
        "# 分類計分"
      ]
    },
    {
      "cell_type": "code",
      "execution_count": 309,
      "metadata": {
        "id": "oYyV25Ptnlfy"
      },
      "outputs": [],
      "source": [
        "def onehot(array):\n",
        "    n,p = len(array),len(label_map)\n",
        "    empty_array = np.zeros((n,p),dtype=int)\n",
        "    for i in range(n):\n",
        "        for j in str(array[i]).split(';'):\n",
        "            if label_map.get(j):\n",
        "                empty_array[i,label_map[j]] = 1\n",
        "    return empty_array"
      ]
    },
    {
      "cell_type": "code",
      "execution_count": 310,
      "metadata": {
        "id": "kC0cucL4nlfy"
      },
      "outputs": [],
      "source": [
        "df = pd.read_csv('./data/dataset/cat_test_v2(ans).csv',usecols=['name','product'])\n",
        "label_map = {v:i for i,v in enumerate(set(sum([x.split(';') for x in df['product'].unique()],[])))}"
      ]
    },
    {
      "cell_type": "code",
      "execution_count": 311,
      "metadata": {
        "id": "5EQ7eH_Mnlfz"
      },
      "outputs": [],
      "source": [
        "df_submit_multi =  pd.read_csv(student_submit_multi).fillna('')"
      ]
    },
    {
      "cell_type": "code",
      "execution_count": 312,
      "metadata": {
        "id": "P7QejdLNnlfz"
      },
      "outputs": [],
      "source": [
        "multi_score1 = f1_score(y_true=onehot(df['product'].tolist()),\n",
        "                        y_pred=onehot(df_submit_multi['pred'].tolist()),\n",
        "                        average=\"macro\",\n",
        "                        zero_division=0)"
      ]
    },
    {
      "cell_type": "markdown",
      "metadata": {
        "id": "dkwc8EZInlfz"
      },
      "source": [
        "# 總計分"
      ]
    },
    {
      "cell_type": "code",
      "execution_count": 313,
      "metadata": {
        "colab": {
          "base_uri": "https://localhost:8080/"
        },
        "id": "1iRazG9lnlfz",
        "outputId": "55249d9b-4dc3-4560-9cf2-46f5a795dfaf"
      },
      "outputs": [
        {
          "output_type": "stream",
          "name": "stdout",
          "text": [
            "[品類任務] Macro F1: 0.960945, 項目總分: 0.960945\n",
            "[品牌任務] 既有品牌 Macro F1: 0.117373, 未知品牌 Jaccard :0.655351, 項目總分: 0.903794\n",
            "--------------------------------------------------------------------------------\n",
            "[總得分(加權)] 0.932369\n",
            "總得分計算 = (品類 Marco F1)*50% + (計有品牌 Marco F1 + 未知品牌 Jaccard * 1.2)*50%\n"
          ]
        }
      ],
      "source": [
        "print(f\"[品類任務] Macro F1: {multi_score1:.6f}, 項目總分: {multi_score1:.6f}\")\n",
        "print(f\"[品牌任務] 既有品牌 Macro F1: {ner_score1:.6f}, 未知品牌 Jaccard :{ner_score2:.6f}, 項目總分: {ner_score1+ner_score2*1.2:.6f}\")\n",
        "print('--'*40)\n",
        "#print(f\"[總得分]  {multi_score1+ner_score1+ner_score2*1.2:.6f}\")\n",
        "print(f\"[總得分(加權)] {multi_score1*0.5+(ner_score1+ner_score2*1.2)*0.5:.6f}\")\n",
        "print(\"總得分計算 = (品類 Marco F1)*50% + (計有品牌 Marco F1 + 未知品牌 Jaccard * 1.2)*50%\")"
      ]
    }
  ],
  "metadata": {
    "environment": {
      "name": "tf2-gpu.2-3.m74",
      "type": "gcloud",
      "uri": "gcr.io/deeplearning-platform-release/tf2-gpu.2-3:m74"
    },
    "interpreter": {
      "hash": "b0fa6594d8f4cbf19f97940f81e996739fb7646882a419484c72d19e05852a7e"
    },
    "kernelspec": {
      "display_name": "Python 3",
      "language": "python",
      "name": "python3"
    },
    "language_info": {
      "codemirror_mode": {
        "name": "ipython",
        "version": 3
      },
      "file_extension": ".py",
      "mimetype": "text/x-python",
      "name": "python",
      "nbconvert_exporter": "python",
      "pygments_lexer": "ipython3",
      "version": "3.7.10"
    },
    "colab": {
      "name": "brand_score.ipynb",
      "provenance": [],
      "collapsed_sections": []
    }
  },
  "nbformat": 4,
  "nbformat_minor": 0
}